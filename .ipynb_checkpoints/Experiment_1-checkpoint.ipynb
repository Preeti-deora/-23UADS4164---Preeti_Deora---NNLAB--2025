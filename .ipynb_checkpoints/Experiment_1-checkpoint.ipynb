{
 "cells": [
  {
   "cell_type": "code",
   "execution_count": 2,
   "id": "bf9474d8-a4c9-4f3c-9e8f-345e01f5fe12",
   "metadata": {},
   "outputs": [
    {
     "name": "stdout",
     "output_type": "stream",
     "text": [
      "NAND Predictions:\n",
      "Input: [0 0], Output: 1\n",
      "Input: [0 1], Output: 1\n",
      "Input: [1 0], Output: 1\n",
      "Input: [1 1], Output: 0\n",
      "\n",
      "XOR Predictions:\n",
      "Input: [0 0], Output: 1\n",
      "Input: [0 1], Output: 0\n",
      "Input: [1 0], Output: 0\n",
      "Input: [1 1], Output: 0\n"
     ]
    }
   ],
   "source": [
    "import numpy as np\n",
    "\n",
    "class Perceptron:\n",
    "    def __init__(self, input_size, learning_rate=0.1, epochs=100):\n",
    "        self.weights = np.random.randn(input_size + 1)  # +1 for bias\n",
    "        self.lr = learning_rate\n",
    "        self.epochs = epochs\n",
    "\n",
    "    def activation(self, x):\n",
    "        return 1 if x >= 0 else 0  # Step function\n",
    "\n",
    "    def predict(self, x):\n",
    "        x = np.insert(x, 0, 1)  # bias term\n",
    "        return self.activation(np.dot(self.weights, x))\n",
    "\n",
    "    def train(self, X, y):\n",
    "        X = np.c_[np.ones(X.shape[0]), X]  # bias term\n",
    "        for _ in range(self.epochs):\n",
    "            for i in range(X.shape[0]):\n",
    "                prediction = self.activation(np.dot(self.weights, X[i]))\n",
    "                error = y[i] - prediction\n",
    "                self.weights += self.lr * error * X[i]  # Update rule\n",
    "\n",
    "    def evaluate(self, X, y):\n",
    "        correct = sum(self.predict(x) == y[i] for i, x in enumerate(X))\n",
    "        return correct / len(y)\n",
    "\n",
    "# NAND Gate Dataset\n",
    "X_nand = np.array([[0, 0], [0, 1], [1, 0], [1, 1]])\n",
    "y_nand = np.array([1, 1, 1, 0])  # NAND Truth Table\n",
    "\n",
    "# XOR Gate Dataset\n",
    "X_xor = np.array([[0, 0], [0, 1], [1, 0], [1, 1]])\n",
    "y_xor = np.array([0, 1, 1, 0])  # XOR Truth Table\n",
    "\n",
    "# Train Perceptron for NAND\n",
    "perceptron_nand = Perceptron(input_size=2)\n",
    "perceptron_nand.train(X_nand, y_nand)\n",
    "\n",
    "# Train Perceptron for XOR\n",
    "perceptron_xor = Perceptron(input_size=2)\n",
    "perceptron_xor.train(X_xor, y_xor)\n",
    "\n",
    "# Testing predictions\n",
    "print(\"NAND Predictions:\")\n",
    "for x in X_nand:\n",
    "    print(f\"Input: {x}, Output: {perceptron_nand.predict(x)}\")\n",
    "\n",
    "print(\"\\nXOR Predictions:\")\n",
    "for x in X_xor:\n",
    "    print(f\"Input: {x}, Output: {perceptron_xor.predict(x)}\")\n"
   ]
  },
  {
   "cell_type": "code",
   "execution_count": null,
   "id": "2f420dbf-e2b5-4c9a-9b67-debf4cc6d587",
   "metadata": {},
   "outputs": [],
   "source": []
  }
 ],
 "metadata": {
  "kernelspec": {
   "display_name": "Python 3 (ipykernel)",
   "language": "python",
   "name": "python3"
  },
  "language_info": {
   "codemirror_mode": {
    "name": "ipython",
    "version": 3
   },
   "file_extension": ".py",
   "mimetype": "text/x-python",
   "name": "python",
   "nbconvert_exporter": "python",
   "pygments_lexer": "ipython3",
   "version": "3.12.3"
  }
 },
 "nbformat": 4,
 "nbformat_minor": 5
}
