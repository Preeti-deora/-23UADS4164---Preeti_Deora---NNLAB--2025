{
 "cells": [
  {
   "cell_type": "code",
   "execution_count": 2,
   "id": "3fdcd0d1-df21-4ce6-a0bb-587f8a2eaf93",
   "metadata": {},
   "outputs": [
    {
     "name": "stdout",
     "output_type": "stream",
     "text": [
      "XOR Predictions:\n",
      "Input: [0 0], Output: [0.]\n",
      "Input: [0 1], Output: [1.]\n",
      "Input: [1 0], Output: [1.]\n",
      "Input: [1 1], Output: [0.]\n",
      "\n",
      "Model Accuracy: 100.00%\n"
     ]
    }
   ],
   "source": [
    "import numpy as np\n",
    "\n",
    "class MLP:\n",
    "    def __init__(self, input_size, hidden_size, output_size, learning_rate=0.1, epochs=10000):\n",
    "        # Initialize weights and biases\n",
    "        self.W1 = np.random.randn(input_size, hidden_size)\n",
    "        self.b1 = np.zeros(hidden_size)\n",
    "        self.W2 = np.random.randn(hidden_size, output_size)\n",
    "        self.b2 = np.zeros(output_size)\n",
    "        self.lr = learning_rate\n",
    "        self.epochs = epochs\n",
    "\n",
    "    def sigmoid(self, x):\n",
    "        return 1 / (1 + np.exp(-x))\n",
    "\n",
    "    def sigmoid_derivative(self, x):\n",
    "        return x * (1 - x)\n",
    "\n",
    "    def forward(self, X):\n",
    "        \"\"\"Forward pass\"\"\"\n",
    "        self.z1 = np.dot(X, self.W1) + self.b1\n",
    "        self.a1 = self.sigmoid(self.z1)\n",
    "        self.z2 = np.dot(self.a1, self.W2) + self.b2\n",
    "        self.a2 = self.sigmoid(self.z2)\n",
    "        return self.a2\n",
    "\n",
    "    def backward(self, X, y, output):\n",
    "        \"\"\"Backward pass for backpropagation\"\"\"\n",
    "        error = y - output  # Error at output\n",
    "        d_output = error * self.sigmoid_derivative(output)\n",
    "\n",
    "        error_hidden = d_output.dot(self.W2.T)\n",
    "        d_hidden = error_hidden * self.sigmoid_derivative(self.a1)\n",
    "\n",
    "        # Update weights and biases\n",
    "        self.W2 += self.a1.T.dot(d_output) * self.lr\n",
    "        self.b2 += np.sum(d_output, axis=0) * self.lr\n",
    "        self.W1 += X.T.dot(d_hidden) * self.lr\n",
    "        self.b1 += np.sum(d_hidden, axis=0) * self.lr\n",
    "\n",
    "    def train(self, X, y):\n",
    "        \"\"\"Train the MLP\"\"\"\n",
    "        for _ in range(self.epochs):\n",
    "            output = self.forward(X)\n",
    "            self.backward(X, y, output)\n",
    "\n",
    "    def predict(self, X):\n",
    "        \"\"\"Make predictions\"\"\"\n",
    "        return np.round(self.forward(X))\n",
    "\n",
    "    def accuracy(self, X, y):\n",
    "        \"\"\"Calculate accuracy\"\"\"\n",
    "        predictions = self.predict(X)\n",
    "        correct = np.sum(predictions == y)\n",
    "        return correct / len(y) * 100  # Accuracy in percentage\n",
    "\n",
    "# XOR Dataset\n",
    "X_xor = np.array([[0, 0], [0, 1], [1, 0], [1, 1]])\n",
    "y_xor = np.array([[0], [1], [1], [0]])  # XOR Truth Table\n",
    "\n",
    "# Train MLP\n",
    "mlp = MLP(input_size=2, hidden_size=2, output_size=1, learning_rate=0.1, epochs=10000)\n",
    "mlp.train(X_xor, y_xor)\n",
    "\n",
    "# Test Predictions\n",
    "print(\"XOR Predictions:\")\n",
    "for x in X_xor:\n",
    "    print(f\"Input: {x}, Output: {mlp.predict(x)}\")\n",
    "\n",
    "# Calculate Accuracy\n",
    "accuracy = mlp.accuracy(X_xor, y_xor)\n",
    "print(f\"\\nModel Accuracy: {accuracy:.2f}%\")\n"
   ]
  },
  {
   "cell_type": "code",
   "execution_count": null,
   "id": "c38857cf-5a15-41db-bc94-b663df0b43eb",
   "metadata": {},
   "outputs": [],
   "source": []
  }
 ],
 "metadata": {
  "kernelspec": {
   "display_name": "Python 3 (ipykernel)",
   "language": "python",
   "name": "python3"
  },
  "language_info": {
   "codemirror_mode": {
    "name": "ipython",
    "version": 3
   },
   "file_extension": ".py",
   "mimetype": "text/x-python",
   "name": "python",
   "nbconvert_exporter": "python",
   "pygments_lexer": "ipython3",
   "version": "3.12.3"
  }
 },
 "nbformat": 4,
 "nbformat_minor": 5
}
